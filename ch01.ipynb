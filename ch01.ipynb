{
 "cells": [
  {
   "cell_type": "markdown",
   "metadata": {},
   "source": [
    "# Chapter 1\n",
    "\n",
    "This notebook contains all Python files from ch01 directory."
   ]
  },
  {
   "cell_type": "markdown",
   "metadata": {},
   "source": [
    "## show_spiral_dataset.py"
   ]
  },
  {
   "cell_type": "code",
   "execution_count": null,
   "metadata": {},
   "outputs": [],
   "source": "# coding: utf-8\nfrom dataset import spiral\nimport matplotlib.pyplot as plt\n\n\nx, t = spiral.load_data()\nprint('x', x.shape)  # (300, 2)\nprint('t', t.shape)  # (300, 3)\n\n# データ点のプロット\nN = 100\nCLS_NUM = 3\nmarkers = ['o', 'x', '^']\nfor i in range(CLS_NUM):\n    plt.scatter(x[i*N:(i+1)*N, 0], x[i*N:(i+1)*N, 1], s=40, marker=markers[i])\nplt.show()"
  },
  {
   "cell_type": "markdown",
   "metadata": {},
   "source": [
    "## two_layer_net.py"
   ]
  },
  {
   "cell_type": "code",
   "execution_count": null,
   "metadata": {},
   "outputs": [],
   "source": "# coding: utf-8\nimport numpy as np\nfrom common.layers import Affine, Sigmoid, SoftmaxWithLoss\n\n\nclass TwoLayerNet:\n    def __init__(self, input_size, hidden_size, output_size):\n        I, H, O = input_size, hidden_size, output_size\n\n        # 重みとバイアスの初期化\n        W1 = 0.01 * np.random.randn(I, H)\n        b1 = np.zeros(H)\n        W2 = 0.01 * np.random.randn(H, O)\n        b2 = np.zeros(O)\n\n        # レイヤの生成\n        self.layers = [\n            Affine(W1, b1),\n            Sigmoid(),\n            Affine(W2, b2)\n        ]\n        self.loss_layer = SoftmaxWithLoss()\n\n        # すべての重みと勾配をリストにまとめる\n        self.params, self.grads = [], []\n        for layer in self.layers:\n            self.params += layer.params\n            self.grads += layer.grads\n\n    def predict(self, x):\n        for layer in self.layers:\n            x = layer.forward(x)\n        return x\n\n    def forward(self, x, t):\n        score = self.predict(x)\n        loss = self.loss_layer.forward(score, t)\n        return loss\n\n    def backward(self, dout=1):\n        dout = self.loss_layer.backward(dout)\n        for layer in reversed(self.layers):\n            dout = layer.backward(dout)\n        return dout"
  },
  {
   "cell_type": "markdown",
   "metadata": {},
   "source": [
    "## forward_net.py"
   ]
  },
  {
   "cell_type": "code",
   "execution_count": null,
   "metadata": {},
   "outputs": [],
   "source": [
    "# coding: utf-8\n",
    "import numpy as np\n",
    "\n",
    "\n",
    "class Sigmoid:\n",
    "    def __init__(self):\n",
    "        self.params = []\n",
    "\n",
    "    def forward(self, x):\n",
    "        return 1 / (1 + np.exp(-x))\n",
    "\n",
    "\n",
    "class Affine:\n",
    "    def __init__(self, W, b):\n",
    "        self.params = [W, b]\n",
    "\n",
    "    def forward(self, x):\n",
    "        W, b = self.params\n",
    "        out = np.dot(x, W) + b\n",
    "        return out\n",
    "\n",
    "\n",
    "class TwoLayerNet:\n",
    "    def __init__(self, input_size, hidden_size, output_size):\n",
    "        I, H, O = input_size, hidden_size, output_size\n",
    "\n",
    "        # 重みとバイアスの初期化\n",
    "        W1 = np.random.randn(I, H)\n",
    "        b1 = np.random.randn(H)\n",
    "        W2 = np.random.randn(H, O)\n",
    "        b2 = np.random.randn(O)\n",
    "\n",
    "        # レイヤの生成\n",
    "        self.layers = [\n",
    "            Affine(W1, b1),\n",
    "            Sigmoid(),\n",
    "            Affine(W2, b2)\n",
    "        ]\n",
    "\n",
    "        # すべての重みをリストにまとめる\n",
    "        self.params = []\n",
    "        for layer in self.layers:\n",
    "            self.params += layer.params\n",
    "\n",
    "    def predict(self, x):\n",
    "        for layer in self.layers:\n",
    "            x = layer.forward(x)\n",
    "        return x\n",
    "\n",
    "\n",
    "x = np.random.randn(10, 2)\n",
    "model = TwoLayerNet(2, 4, 3)\n",
    "s = model.predict(x)\n",
    "print(s)"
   ]
  },
  {
   "cell_type": "markdown",
   "metadata": {},
   "source": [
    "## train.py"
   ]
  },
  {
   "cell_type": "code",
   "execution_count": null,
   "metadata": {},
   "outputs": [],
   "source": "# coding: utf-8\nfrom common.optimizer import SGD\nfrom common.trainer import Trainer\nfrom dataset import spiral\n# Note: TwoLayerNet class is defined in the two_layer_net.py cell above\n\n\n# ハイパーパラメータの設定\nmax_epoch = 300\nbatch_size = 30\nhidden_size = 10\nlearning_rate = 1.0\n\nx, t = spiral.load_data()\nmodel = TwoLayerNet(input_size=2, hidden_size=hidden_size, output_size=3)\noptimizer = SGD(lr=learning_rate)\n\ntrainer = Trainer(model, optimizer)\ntrainer.fit(x, t, max_epoch, batch_size, eval_interval=10)\ntrainer.plot()"
  },
  {
   "cell_type": "markdown",
   "metadata": {},
   "source": [
    "## train_custom_loop.py"
   ]
  },
  {
   "cell_type": "code",
   "execution_count": null,
   "metadata": {},
   "outputs": [],
   "source": "# coding: utf-8\nimport numpy as np\nfrom common.optimizer import SGD\nfrom dataset import spiral\nimport matplotlib.pyplot as plt\n# Note: TwoLayerNet class is defined in the two_layer_net.py cell above\n\n\n# ハイパーパラメータの設定\nmax_epoch = 300\nbatch_size = 30\nhidden_size = 10\nlearning_rate = 1.0\n\nx, t = spiral.load_data()\nmodel = TwoLayerNet(input_size=2, hidden_size=hidden_size, output_size=3)\noptimizer = SGD(lr=learning_rate)\n\n# 学習で使用する変数\ndata_size = len(x)\nmax_iters = data_size // batch_size\ntotal_loss = 0\nloss_count = 0\nloss_list = []\n\nfor epoch in range(max_epoch):\n    # データのシャッフル\n    idx = np.random.permutation(data_size)\n    x = x[idx]\n    t = t[idx]\n\n    for iters in range(max_iters):\n        batch_x = x[iters*batch_size:(iters+1)*batch_size]\n        batch_t = t[iters*batch_size:(iters+1)*batch_size]\n\n        # 勾配を求め、パラメータを更新\n        loss = model.forward(batch_x, batch_t)\n        model.backward()\n        optimizer.update(model.params, model.grads)\n\n        total_loss += loss\n        loss_count += 1\n\n        # 定期的に学習経過を出力\n        if (iters+1) % 10 == 0:\n            avg_loss = total_loss / loss_count\n            print('| epoch %d |  iter %d / %d | loss %.2f'\n                  % (epoch + 1, iters + 1, max_iters, avg_loss))\n            loss_list.append(avg_loss)\n            total_loss, loss_count = 0, 0\n\n\n# 学習結果のプロット\nplt.plot(np.arange(len(loss_list)), loss_list, label='train')\nplt.xlabel('iterations (x10)')\nplt.ylabel('loss')\nplt.show()\n\n# 境界領域のプロット\nh = 0.001\nx_min, x_max = x[:, 0].min() - .1, x[:, 0].max() + .1\ny_min, y_max = x[:, 1].min() - .1, x[:, 1].max() + .1\nxx, yy = np.meshgrid(np.arange(x_min, x_max, h), np.arange(y_min, y_max, h))\nX = np.c_[xx.ravel(), yy.ravel()]\nscore = model.predict(X)\npredict_cls = np.argmax(score, axis=1)\nZ = predict_cls.reshape(xx.shape)\nplt.contourf(xx, yy, Z)\nplt.axis('off')\n\n# データ点のプロット\nx, t = spiral.load_data()\nN = 100\nCLS_NUM = 3\nmarkers = ['o', 'x', '^']\nfor i in range(CLS_NUM):\n    plt.scatter(x[i*N:(i+1)*N, 0], x[i*N:(i+1)*N, 1], s=40, marker=markers[i])\nplt.show()"
  }
 ],
 "metadata": {
  "kernelspec": {
   "display_name": "Python 3",
   "language": "python",
   "name": "python3"
  },
  "language_info": {
   "codemirror_mode": {
    "name": "ipython",
    "version": 3
   },
   "file_extension": ".py",
   "name": "python",
   "nbconvert_exporter": "python",
   "pygments_lexer": "ipython3",
   "version": "3.8.5"
  }
 },
 "nbformat": 4,
 "nbformat_minor": 4
}